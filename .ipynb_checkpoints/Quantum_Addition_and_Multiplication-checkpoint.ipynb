{
 "cells": [
  {
   "cell_type": "code",
   "execution_count": null,
   "id": "a97e0e3c-b8b0-442a-b6a9-60a9b4dbcb6b",
   "metadata": {},
   "outputs": [],
   "source": [
    "from qiskit.circuit import QuantumCircuit, QuantumRegister, AncillaRegister\n",
    "from qiskit.quantum_info import Statevector, Operator\n",
    "\n",
    "import matplotlib.pyplot as plt\n",
    "\n",
    "import numpy as np"
   ]
  },
  {
   "cell_type": "markdown",
   "id": "9c87cfb5-1d0f-4025-adff-e899b1b7becd",
   "metadata": {
    "jp-MarkdownHeadingCollapsed": true
   },
   "source": [
    "## Fourier Transform"
   ]
  },
  {
   "cell_type": "code",
   "execution_count": null,
   "id": "6d6d2dc1-ca7f-41cc-b638-13f2d5a0a113",
   "metadata": {},
   "outputs": [],
   "source": [
    "def quantum_fourier_transform(n):\n",
    "    quantum_register = QuantumRegister(size=n, name=\"x\")\n",
    "    QFT_circuit = QuantumCircuit(quantum_register, name=f\"QFT\")\n",
    "\n",
    "    \n",
    "\n",
    "    for i, q in enumerate(quantum_register, start=1):\n",
    "        QFT_circuit.h(q)\n",
    "        for j, p in enumerate(quantum_register[i:], start=1):\n",
    "            QFT_circuit.cp(np.pi / (1 << j), q, p) # I don't understand. Should q not be target and control be p instead? Symmetric so does not matter.\n",
    "\n",
    "    for q, p in zip(quantum_register[:n >> 1], reversed(quantum_register[n >> 1:])):\n",
    "        QFT_circuit.swap(q, p)\n",
    "    \n",
    "    return QFT_circuit\n",
    "\n",
    "def inverse_quantum_fourier_transform(n):\n",
    "    quantum_register = QuantumRegister(size=n, name=\"x\")\n",
    "    inverse_QFT_circuit = QuantumCircuit(quantum_register, name=f\"IQFT\")\n",
    "\n",
    "    for q, p in zip(quantum_register[:n >> 1], reversed(quantum_register[n >> 1:])):\n",
    "        inverse_QFT_circuit.swap(q, p)\n",
    "        \n",
    "    for i, q in enumerate(reversed(quantum_register), start=1):\n",
    "        for j, p in enumerate(reversed(quantum_register[n + 1 - i:]), start=1):\n",
    "            inverse_QFT_circuit.cp(- np.pi / (1 << (i - j)), q, p)\n",
    "        inverse_QFT_circuit.h(q)\n",
    "\n",
    "    \n",
    "\n",
    "    return inverse_QFT_circuit"
   ]
  },
  {
   "cell_type": "code",
   "execution_count": 1,
   "id": "61d3bcdf-43fa-4726-ab4f-6cd907bbc379",
   "metadata": {},
   "outputs": [
    {
     "ename": "NameError",
     "evalue": "name 'QuantumRegister' is not defined",
     "output_type": "error",
     "traceback": [
      "\u001b[31m---------------------------------------------------------------------------\u001b[39m",
      "\u001b[31mNameError\u001b[39m                                 Traceback (most recent call last)",
      "\u001b[36mCell\u001b[39m\u001b[36m \u001b[39m\u001b[32mIn[1]\u001b[39m\u001b[32m, line 2\u001b[39m\n\u001b[32m      1\u001b[39m \u001b[38;5;66;03m#Check that QFT works\u001b[39;00m\n\u001b[32m----> \u001b[39m\u001b[32m2\u001b[39m qc_a2 = \u001b[43mQuantumRegister\u001b[49m(size=\u001b[32m1\u001b[39m, name=\u001b[33m\"\u001b[39m\u001b[33ma2\u001b[39m\u001b[33m\"\u001b[39m)\n\u001b[32m      3\u001b[39m qc_a1 = QuantumRegister(size=\u001b[32m1\u001b[39m, name=\u001b[33m\"\u001b[39m\u001b[33ma1\u001b[39m\u001b[33m\"\u001b[39m)\n\u001b[32m      6\u001b[39m \u001b[38;5;66;03m#QFT_circuit = QuantumCircuit(qc_c2, qc_c1, qc_b2, qc_b1, qc_a2, qc_a1, name=\"QFT circuit\")\u001b[39;00m\n",
      "\u001b[31mNameError\u001b[39m: name 'QuantumRegister' is not defined"
     ]
    }
   ],
   "source": [
    "#Check that QFT works\n",
    "qc_a2 = QuantumRegister(size=1, name=\"a2\")\n",
    "qc_a1 = QuantumRegister(size=1, name=\"a1\")\n",
    "\n",
    "\n",
    "#QFT_circuit = QuantumCircuit(qc_c2, qc_c1, qc_b2, qc_b1, qc_a2, qc_a1, name=\"QFT circuit\")\n",
    "QFT_circuit = QuantumCircuit(qc_a1, qc_a2,name=\"QFT circuit\")\n",
    "QFT_circuit.compose(quantum_fourier_transform(2), qubits = [1,0],inplace=True)\n",
    "QFT_circuit.barrier()\n",
    "QFT_circuit.compose(inverse_quantum_fourier_transform(2), qubits = [1,0],inplace=True)\n",
    "#QFT_circuit.swap(0,1)\n",
    "QFT_circuit.draw(output=\"mpl\", style=\"bw\")"
   ]
  },
  {
   "cell_type": "markdown",
   "id": "436ca24e-d68a-410a-8abd-6a6da1c6afc7",
   "metadata": {},
   "source": [
    "## Quantum Addition"
   ]
  },
  {
   "cell_type": "code",
   "execution_count": null,
   "id": "df17b087-17ec-4eab-a04d-185c895f9072",
   "metadata": {},
   "outputs": [],
   "source": []
  },
  {
   "cell_type": "code",
   "execution_count": null,
   "id": "4afc2d7e-40a0-45ea-811d-1e1b10a4a649",
   "metadata": {},
   "outputs": [],
   "source": [
    "## Now I want to make this into a function\n",
    "def QCalc(n):\n",
    "    qr_a = QuantumRegister(size=n, name=\"a\")\n",
    "    qr_b = QuantumRegister(size=n, name=\"b\")\n",
    "    qr_c = QuantumRegister(size=n, name=\"c\")\n",
    "    \n",
    "    qc = QuantumCircuit(qr_a,qr_b,qr_c, name=f\"QFT\")\n",
    "\n",
    "    #Initial conditions\n",
    "    qc.x(qr_b[n-2])\n",
    "    qc.x(qr_c[n-1])\n",
    "    print(np.nonzero(np.round(np.real(Statevector(qc).data)))[0][0])\n",
    "\n",
    "    qc.barrier()\n",
    "    \n",
    "    #Apply Fourier Transform\n",
    "    qc.compose(quantum_fourier_transform(n), qubits = qr_a[::-1],inplace=True)\n",
    "\n",
    "    \n",
    "    #Apply addition circuit\n",
    "    qc.barrier()\n",
    "    for q, p in zip(qr_a[:n >> 1], reversed(qr_a[n >> 1:])):\n",
    "        qc.swap(q, p)\n",
    "\n",
    "    for j, p in enumerate(qr_a, start=0): # is this algorithm fully quantum if I use if-else? Yes because this only helps in construction.\n",
    "        for i in range(n):\n",
    "            if i >j:\n",
    "                pass\n",
    "            else:\n",
    "                q = qr_b[i]\n",
    "                r = qr_c[i]\n",
    "                qc.cp(2*np.pi/2**(j+1-i), p,q)\n",
    "                qc.cp(2*np.pi/2**(j+1-i), p,r)\n",
    "            #QFT_circuit.cp(np.pi / (1 << j), p, q)\n",
    "\n",
    "\n",
    "\n",
    "\n",
    "    for q, p in zip(qr_a[:n >> 1], reversed(qr_a[n >> 1:])):\n",
    "        qc.swap(q, p)    \n",
    "\n",
    "    #Apply Inverse Fourier Transform\n",
    "    qc.barrier()\n",
    "    qc.compose(inverse_quantum_fourier_transform(n),qubits = qr_a[::-1], inplace=True)\n",
    "    \n",
    "\n",
    "    \n",
    "\n",
    "    return qc\n"
   ]
  }
 ],
 "metadata": {
  "kernelspec": {
   "display_name": "Python 3 (ipykernel)",
   "language": "python",
   "name": "python3"
  },
  "language_info": {
   "codemirror_mode": {
    "name": "ipython",
    "version": 3
   },
   "file_extension": ".py",
   "mimetype": "text/x-python",
   "name": "python",
   "nbconvert_exporter": "python",
   "pygments_lexer": "ipython3",
   "version": "3.13.2"
  }
 },
 "nbformat": 4,
 "nbformat_minor": 5
}
