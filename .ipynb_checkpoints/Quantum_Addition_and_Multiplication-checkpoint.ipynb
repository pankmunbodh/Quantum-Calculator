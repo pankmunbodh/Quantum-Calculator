{
 "cells": [
  {
   "cell_type": "code",
   "execution_count": 7,
   "id": "a97e0e3c-b8b0-442a-b6a9-60a9b4dbcb6b",
   "metadata": {},
   "outputs": [],
   "source": [
    "from qiskit.circuit import QuantumCircuit, QuantumRegister, AncillaRegister\n",
    "from qiskit.quantum_info import Statevector, Operator\n",
    "\n",
    "import matplotlib.pyplot as plt\n",
    "\n",
    "import numpy as np"
   ]
  },
  {
   "cell_type": "markdown",
   "id": "3924f347-e659-4220-9c5e-60fb5e972290",
   "metadata": {},
   "source": [
    "## Problem Statement\n",
    "\n",
    "This notebook describes the implementation of a quantum computer. The algorithms for addition and multiplication are based on those described in the papers https://arxiv.org/pdf/quant-ph/0008033 and https://arxiv.org/pdf/1411.5949.\n",
    "\n",
    "Let $|a\\rangle \\in F_2^n \\simeq Z_{2^n}$ with $|a\\rangle = |a_1\\rangle \\otimes \\ldots \\otimes |a_n\\rangle$.\n",
    "\n",
    "We write a Qiskit function that takes one input: a positive integer $n$ and outputs a quantum circuit, QCalc, on $3n +1$ qubits, possibly with further ancillas, that implements the following:\n",
    "\n",
    "\\begin{equation}\n",
    "\\text{QCalc}|x\\rangle_n |y\\rangle_n |z\\rangle_1 |0\\rangle_n = \\begin{cases} |x\\rangle_n |y\\rangle_n |z\\rangle_1 |x+y \\quad \\text{mod} \\quad 2^n\\rangle_n \\quad z = 0 \\\\ |x\\rangle_n |y\\rangle_n |z\\rangle_1 |x\\cdot y \\quad \\text{mod} \\quad 2^n\\rangle_n, \\quad z = 1\\end{cases}\n",
    "\\end{equation}\n",
    "\n",
    "The notebook is structured as follows. Section 1 blablabla"
   ]
  },
  {
   "cell_type": "markdown",
   "id": "8675eea2-fb4c-4dc0-8c24-9e1e2795752a",
   "metadata": {},
   "source": [
    "# Table of Contents\n",
    "1. [Helper Functions](#HelperFunctions)"
   ]
  },
  {
   "cell_type": "markdown",
   "id": "fc4de544-dae9-4318-8445-b7db701eccbe",
   "metadata": {},
   "source": [
    "## Helper Functions needed to test the multiplication and addition QC <a name = \"HelperFunctions\"></a>"
   ]
  },
  {
   "cell_type": "code",
   "execution_count": 8,
   "id": "78dcfcb3-2c43-4012-b806-b6588c2f3cb8",
   "metadata": {},
   "outputs": [],
   "source": [
    "def bit_string(num,n): # converts a number to binary bit_string\n",
    "    \"\"\"Converts a number to its binary string with MSB to LSB from left to right.\n",
    "    Input: number (num), n (number of bits that should be in result)\n",
    "    \"\"\"\n",
    "    maxi = 2**n\n",
    "    rem = num%(2**n)\n",
    "\n",
    "    bit_string = ''# 2^(n-1) ... 2^0 \n",
    "\n",
    "    for i in range(n-1,-1,-1):\n",
    "        append = str(rem//(2**i))\n",
    "        bit_string = bit_string + append\n",
    "        rem = rem%(2**i)\n",
    "    return bit_string\n",
    "\n",
    "def binary_to_num(bit_str):\n",
    "    \"\"\"Convert a bit-string to a number.\n",
    "    Input : bit-string in binary\n",
    "    Output: number \n",
    "    \"\"\"\n",
    "    num=0\n",
    "    n=len(bit_str)\n",
    "    \n",
    "    for i in range(n):\n",
    "        bit = int(bit_str[i])\n",
    "        if bit < 0 or bit > 1:\n",
    "            print(\"Fatal error. You did not input a bit string.Exiting.\")\n",
    "            return 0\n",
    "        num = num + bit*2**(n-1-i)\n",
    "    return num\n",
    "\n",
    "def number_input(num1,num2,n): # converts number input to statevector. n is number of qubits.\n",
    "    \"\"\"Converts num1 to binary, num2 to binary, concatenates the bit-strings, and adds n (number of bits) \n",
    "    trailing zeroes.\n",
    "    \"\"\"\n",
    "    \n",
    "    \n",
    "    bit_str = bit_string(num1,n)[::-1] + bit_string(num2,n)[::-1] + ''.join(['0' for i in range(n)]) # the two zeroes are the |0>_d\n",
    "\n",
    "    \n",
    "    \n",
    "    return bit_to_state(bit_str)\n",
    "\n",
    "def bit_to_state(bit_str): #convert bit_string to state_vector\n",
    "    \"\"\" Converts a bit-string to an input state vector for the circuit.\n",
    "    \"\"\"\n",
    "    bit_str = bit_str[::-1]\n",
    "    #\n",
    "    return Statevector.from_label(bit_str)\n",
    "def state_to_bit(statevector,n): # converts state_vector to bit_string\n",
    "    \"\"\" Converts an input statevector to a bit-string of length n\n",
    "    \"\"\"\n",
    "    num = np.nonzero(np.round(np.real(statevector)))[0][0]\n",
    "   \n",
    "    return bit_string(num,n)\n",
    "    \n",
    "def result(output_statevector,n):\n",
    "    \"\"\"Outputs the number that is stored in the last n bits of the bit-string of a statevector for the QC.\n",
    "    This function is used to read in the result of the multiplication or addition performed by the QC.\n",
    "    \"\"\"\n",
    "    \n",
    "    output_number_bit_str = state_to_bit(output_statevector,3*n)[:n]\n",
    "\n",
    "    return binary_to_num(output_number_bit_str)"
   ]
  },
  {
   "cell_type": "markdown",
   "id": "1f9307db-c713-4225-b0f7-41ee3ed34596",
   "metadata": {},
   "source": [
    "## Quantum Fourier Transform (QFT) <a name = \"FT\"></a>"
   ]
  },
  {
   "cell_type": "markdown",
   "id": "891e7df9-4899-45ef-9d2f-ccd012dd5bdf",
   "metadata": {},
   "source": [
    "The Fourier transform for $|a\\rangle \\in {|0\\rangle,|1\\rangle,\\ldots,|2^n-1\\rangle}$ (with $n$ the number of qubits) is defined as \n",
    "\\begin{equation}\n",
    "|\\phi(a)\\rangle \\equiv QFT \\, |a\\rangle = \\frac{1}{\\sqrt{2^n}}\\sum_{k=0} e^{i 2\\pi a k /2^n} \\,|k\\rangle\n",
    "\\end{equation}\n",
    "If we define\n",
    "\\begin{equation}\n",
    "|\\phi_k(a)\\rangle = \\frac{1}{\\sqrt{2}} (|0\\rangle + e^{2 \\pi i a /2^k}|1\\rangle)\n",
    "\\end{equation}\n",
    "then it can be shown that the Fourier Transform is simply a tensor product.\n",
    "\\begin{equation}\n",
    "|\\phi(a)\\rangle = \\frac{1}{\\sqrt{2^n}} |\\phi_n (a)\\rangle \\otimes \\ldots \\otimes |\\phi_1(a)\\rangle\n",
    "\\end{equation}\n",
    "We can write $a$ in its bit string representation as $a = a_1 2^0 + a_2 2^2 + \\ldots + a_n 2^{n-1}$. Then,\n",
    "\\begin{align}\n",
    "e^{2\\pi i a/2^k} &= e^{2\\pi i \\sum_j a_j 2^{j-1}/2^k} \\\\\n",
    "&= e^{2\\pi i \\sum_j a_j 2^{j-k-1}} \\\\\n",
    "&= \\prod_{j=1}^{k} e^{2\\pi i a_j 2^{j-k-1}}\n",
    "\\end{align}\n",
    "where in the last line we used that $j \\leq k$ since otherwise the phase is just equal to 1. Hence we see that obtaining the $|\\phi_k(a)\\rangle$ constitutes to (i) applying a Hadamard gate to transform $|0\\rangle \\to \\frac{1}{\\sqrt{2}}(|0\\rangle + |1\\rangle)$ and (ii) applying a composition of $k$ rotations controlled on the qubit $a_j$. These rotations are implemented as 2-qubit unitary gates $R_k$ which are defined as\n",
    "\\begin{equation}\n",
    "R_k = \\begin{pmatrix} 1 & 0 & 0 & 0 \\\\ 0 & 1 & 0 & 0 \\\\ 0 & 0 & 1 & 0 \\\\ 0 & 0 & 0 & e^{2\\pi i /2^k} \\end{pmatrix}\n",
    "\\end{equation}\n",
    "The QFT is thus a unitary linear transformation. Below is the standard implementation of the QFT.\n",
    "\n",
    "The \\emph{Inverse Quantum Fourier Transform} (IQFT) can be implemented as the inverse of the QFT transformation. $IQFT = QFT^{-1} = QFT^\\dagger$. Practically, it is given by retracing the gates in the quantum gates in the circuit in the opposite direction, and replacing any gate by its inverse.\n",
    "\n",
    "Below we give the standard implementation of the QFT and IQFT. We verify that it works for a 2-qubit system with $n=2$ by verifying the identity $QFT \\cdot IQFT = I$ where $I$ is the identity."
   ]
  },
  {
   "cell_type": "code",
   "execution_count": 9,
   "id": "6d6d2dc1-ca7f-41cc-b638-13f2d5a0a113",
   "metadata": {},
   "outputs": [],
   "source": [
    "def quantum_fourier_transform(n):\n",
    "    quantum_register = QuantumRegister(size=n, name=\"x\")\n",
    "    QFT_circuit = QuantumCircuit(quantum_register, name=f\"QFT\")\n",
    "\n",
    "    \n",
    "\n",
    "    for i, q in enumerate(quantum_register, start=1):\n",
    "        QFT_circuit.h(q)\n",
    "        for j, p in enumerate(quantum_register[i:], start=1):\n",
    "            QFT_circuit.cp(np.pi / (1 << j), q, p) # Symmetric so does not matter.\n",
    "\n",
    "    for q, p in zip(quantum_register[:n >> 1], reversed(quantum_register[n >> 1:])):\n",
    "        QFT_circuit.swap(q, p)\n",
    "    \n",
    "    return QFT_circuit\n",
    "\n",
    "def inverse_quantum_fourier_transform(n):\n",
    "    quantum_register = QuantumRegister(size=n, name=\"x\")\n",
    "    inverse_QFT_circuit = QuantumCircuit(quantum_register, name=f\"IQFT\")\n",
    "\n",
    "    for q, p in zip(quantum_register[:n >> 1], reversed(quantum_register[n >> 1:])):\n",
    "        inverse_QFT_circuit.swap(q, p)\n",
    "        \n",
    "    for i, q in enumerate(reversed(quantum_register), start=1):\n",
    "        for j, p in enumerate(reversed(quantum_register[n + 1 - i:]), start=1):\n",
    "            inverse_QFT_circuit.cp(- np.pi / (1 << (i - j)), q, p)\n",
    "        inverse_QFT_circuit.h(q)\n",
    "\n",
    "    \n",
    "\n",
    "    return inverse_QFT_circuit"
   ]
  },
  {
   "cell_type": "code",
   "execution_count": 10,
   "id": "61d3bcdf-43fa-4726-ab4f-6cd907bbc379",
   "metadata": {},
   "outputs": [
    {
     "data": {
      "image/png": "[encoded data removed]",
      "text/plain": [
       "<Figure size 1039.59x200.667 with 1 Axes>"
      ]
     },
     "execution_count": 10,
     "metadata": {},
     "output_type": "execute_result"
    }
   ],
   "source": [
    "#Check that QFT works\n",
    "qc_a2 = QuantumRegister(size=1, name=\"a2\")\n",
    "qc_a1 = QuantumRegister(size=1, name=\"a1\")\n",
    "\n",
    "\n",
    "#QFT_circuit = QuantumCircuit(qc_c2, qc_c1, qc_b2, qc_b1, qc_a2, qc_a1, name=\"QFT circuit\")\n",
    "QFT_circuit = QuantumCircuit(qc_a1, qc_a2,name=\"QFT circuit\")\n",
    "QFT_circuit.compose(quantum_fourier_transform(2), qubits = [1,0],inplace=True)\n",
    "QFT_circuit.barrier()\n",
    "QFT_circuit.compose(inverse_quantum_fourier_transform(2), qubits = [1,0],inplace=True)\n",
    "#QFT_circuit.swap(0,1)\n",
    "QFT_circuit.draw(output=\"mpl\", style=\"bw\")"
   ]
  },
  {
   "cell_type": "code",
   "execution_count": 11,
   "id": "95ad0108-ec97-43ee-8951-19ace27333d1",
   "metadata": {},
   "outputs": [
    {
     "name": "stdout",
     "output_type": "stream",
     "text": [
      "Operator([[1.+0.j, 0.+0.j, 0.+0.j, 0.+0.j],\n",
      "          [0.+0.j, 1.+0.j, 0.+0.j, 0.+0.j],\n",
      "          [0.+0.j, 0.+0.j, 1.+0.j, 0.+0.j],\n",
      "          [0.+0.j, 0.+0.j, 0.+0.j, 1.+0.j]],\n",
      "         input_dims=(2, 2), output_dims=(2, 2))\n"
     ]
    }
   ],
   "source": [
    "Operator(QFT_circuit) # this should give identity."
   ]
  },
  {
   "cell_type": "markdown",
   "id": "1c08368f-3acd-4a55-bfb1-3746cafa72c6",
   "metadata": {},
   "source": [
    "As expected, we get that $QFT \\cdot IQFT = I$."
   ]
  },
  {
   "cell_type": "markdown",
   "id": "436ca24e-d68a-410a-8abd-6a6da1c6afc7",
   "metadata": {},
   "source": [
    "## Quantum Addition"
   ]
  },
  {
   "cell_type": "markdown",
   "id": "fad9372e-728d-48f0-a40f-dfedcc3e999e",
   "metadata": {},
   "source": [
    "Let's find a QC that implements QC$|a\\rangle |b\\rangle |c\\rangle = |a\\rangle |b\\rangle |a+b+c \\quad \\text{mod} \\quad 2^n\\rangle$ (we will set $c=0$ in the end). Notation : We suppress the subscript $n$ on these qudits.\n",
    "\n",
    "We claim that QC = $IQFT_{c} CZ_{a,c}CZ_{b,c} QFT_c$ where \n",
    "\\begin{equation}\n",
    "CZ |x\\rangle |y\\rangle \\equiv e^{i 2\\pi x y/2^n}|x\\rangle |y\\rangle\n",
    "\\end{equation}\n",
    "\n",
    "Let us apply each transformation in the order that they appear.\n",
    "\n",
    "\\begin{equation}\n",
    "QFT_c |a\\rangle |b\\rangle |c\\rangle = \\frac{1}{\\sqrt{2^n}} \\sum_{k=0}^{2^n-1} e^{i 2\\pi c k /2^n} |a\\rangle |b\\rangle |k\\rangle\n",
    "\\end{equation}\n",
    "Then,\n",
    "\\begin{align}\n",
    "CZ_{b,c} QFT_c |a\\rangle |b\\rangle |c\\rangle &= \\frac{1}{\\sqrt{2^n}} \\sum_{k=0}^{2^n-1} e^{i 2\\pi c k /2^n} |a\\rangle CZ_{b,k}|b\\rangle |k\\rangle \\\\\n",
    "&= \\frac{1}{\\sqrt{2^n}} \\sum_{k=0}^{2^n-1} e^{i 2\\pi (b+c) k /2^n} |a\\rangle |b\\rangle |k\\rangle\n",
    "\\end{align}\n",
    "Similarly, then,\n",
    "\\begin{align}\n",
    "CZ_{a,c} CZ_{b,c} QFT_c |a\\rangle |b\\rangle |c\\rangle &= \\frac{1}{\\sqrt{2^n}} \\sum_{k=0}^{2^n-1} e^{i 2\\pi (a+b+c) k /2^n} |a\\rangle |b\\rangle |k\\rangle \\\\\n",
    "&= |a\\rangle |b\\rangle |\\phi(a+b+c)\\rangle\n",
    "\\end{align}\n",
    "So, that, finally,\n",
    "\\begin{equation}\n",
    "IQFT_c CZ_{a,c} CZ_{b,c} QFT_c |a\\rangle |b\\rangle |c\\rangle = |a\\rangle |b\\rangle |a+b+c \\quad \\text{mod} \\quad 2^n\\rangle \n",
    "\\end{equation}\n",
    "Crucially, we see that addition is just a rotation in Fourier space. Defining $A = a + b +c$, this is exactly one of the equations we saw in the section on [QFT](#FT), and we can write\n",
    "\\begin{equation}\n",
    "|\\phi_k(A)\\rangle = \\frac{1}{\\sqrt{2}} (|0\\rangle + e^{2\\pi i A /2^k} |1\\rangle)\n",
    "\\end{equation}\n",
    "or \n",
    "\\begin{equation}\n",
    "|\\phi(a+b+c)\\rangle = \\frac{1}{\\sqrt{2}} (|0\\rangle + e^{2\\pi i a/2^k} e^{2 \\pi i b/2^k} e^{2\\pi i c/2^k} |1\\rangle)\n",
    "\\end{equation}\n",
    "Setting $c=0$, the phase changes are\n",
    "\\begin{equation}\n",
    "e^{2\\pi i a/2^k} e^{2 \\pi i b/2^k} = \\prod_{j=1}^k e^{2\\pi i a_j 2^{j-k-1}} e^{2\\pi i b_j 2^{j-k-1}}\n",
    "\\end{equation}\n",
    "Hence to implement addition, we only need to perform the rotations using the matrices $R_k$ (defined in section [QFT](#FT)) where for each rotation that gets controlled by $a_j$, we now also have a corresponding rotation that is controlled by $b_j$. This will transform $\\phi(0) \\to \\phi(a+b)$.\n",
    "\n",
    "Below we give the qiskit implentation using the algorithm described."
   ]
  },
  {
   "cell_type": "code",
   "execution_count": null,
   "id": "4afc2d7e-40a0-45ea-811d-1e1b10a4a649",
   "metadata": {},
   "outputs": [],
   "source": [
    "## Now I want to make this into a function\n",
    "def QCalc(n):\n",
    "    qr_a = QuantumRegister(size=n, name=\"a\")\n",
    "    qr_b = QuantumRegister(size=n, name=\"b\")\n",
    "    qr_c = QuantumRegister(size=n, name=\"c\")\n",
    "    \n",
    "    qc = QuantumCircuit(qr_a,qr_b,qr_c, name=f\"QFT\")\n",
    "\n",
    "    #Initial conditions\n",
    "    qc.x(qr_b[n-2])\n",
    "    qc.x(qr_c[n-1])\n",
    "    print(np.nonzero(np.round(np.real(Statevector(qc).data)))[0][0])\n",
    "\n",
    "    qc.barrier()\n",
    "    \n",
    "    #Apply Fourier Transform\n",
    "    qc.compose(quantum_fourier_transform(n), qubits = qr_a[::-1],inplace=True)\n",
    "\n",
    "    \n",
    "    #Apply addition circuit\n",
    "    qc.barrier()\n",
    "    for q, p in zip(qr_a[:n >> 1], reversed(qr_a[n >> 1:])):\n",
    "        qc.swap(q, p)\n",
    "\n",
    "    for j, p in enumerate(qr_a, start=0): # is this algorithm fully quantum if I use if-else? Yes because this only helps in construction.\n",
    "        for i in range(n):\n",
    "            if i >j:\n",
    "                pass\n",
    "            else:\n",
    "                q = qr_b[i]\n",
    "                r = qr_c[i]\n",
    "                qc.cp(2*np.pi/2**(j+1-i), p,q)\n",
    "                qc.cp(2*np.pi/2**(j+1-i), p,r)\n",
    "            #QFT_circuit.cp(np.pi / (1 << j), p, q)\n",
    "\n",
    "\n",
    "\n",
    "\n",
    "    for q, p in zip(qr_a[:n >> 1], reversed(qr_a[n >> 1:])):\n",
    "        qc.swap(q, p)    \n",
    "\n",
    "    #Apply Inverse Fourier Transform\n",
    "    qc.barrier()\n",
    "    qc.compose(inverse_quantum_fourier_transform(n),qubits = qr_a[::-1], inplace=True)\n",
    "    \n",
    "\n",
    "    \n",
    "\n",
    "    return qc\n"
   ]
  },
  {
   "cell_type": "code",
   "execution_count": null,
   "id": "8e4ed5cb-bb07-4a15-bd8e-f312b0f25213",
   "metadata": {},
   "outputs": [],
   "source": []
  }
 ],
 "metadata": {
  "kernelspec": {
   "display_name": "Python 3 (ipykernel)",
   "language": "python",
   "name": "python3"
  },
  "language_info": {
   "codemirror_mode": {
    "name": "ipython",
    "version": 3
   },
   "file_extension": ".py",
   "mimetype": "text/x-python",
   "name": "python",
   "nbconvert_exporter": "python",
   "pygments_lexer": "ipython3",
   "version": "3.13.2"
  }
 },
 "nbformat": 4,
 "nbformat_minor": 5
}
