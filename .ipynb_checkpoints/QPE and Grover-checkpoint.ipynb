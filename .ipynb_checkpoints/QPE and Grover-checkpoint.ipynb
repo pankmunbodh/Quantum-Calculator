{
 "cells": [
  {
   "cell_type": "markdown",
   "id": "574905bd",
   "metadata": {},
   "source": [
    "## QPE Implementation"
   ]
  },
  {
   "cell_type": "code",
   "execution_count": 1,
   "id": "66a421f2-128e-45e5-8e22-8e91039f1e02",
   "metadata": {},
   "outputs": [],
   "source": [
    "from qiskit.circuit import QuantumCircuit, QuantumRegister, AncillaRegister, ClassicalRegister\n",
    "from qiskit.quantum_info import Statevector, Operator\n",
    "\n",
    "import matplotlib.pyplot as plt\n",
    "\n",
    "import numpy as np"
   ]
  },
  {
   "cell_type": "code",
   "execution_count": 83,
   "id": "4356a33f-9cd2-4ad2-bf98-c042d3530610",
   "metadata": {},
   "outputs": [],
   "source": [
    "## Helper functions for testing.\n",
    "def bit_string(num,n): # converts a number to binary bit_string\n",
    "    \"\"\"Converts a number to its binary string with MSB to LSB from left to right.\n",
    "    Input: number (num), n (number of bits that should be in result)\n",
    "    \"\"\"\n",
    "    maxi = 2**n\n",
    "    rem = num%(2**n)\n",
    "\n",
    "    bit_string = ''# 2^(n-1) ... 2^0 \n",
    "\n",
    "    for i in range(n-1,-1,-1):\n",
    "        append = str(rem//(2**i))\n",
    "        bit_string = bit_string + append\n",
    "        rem = rem%(2**i)\n",
    "    return bit_string\n",
    "\n",
    "def binary_to_num(bit_str):\n",
    "    \"\"\"Convert a bit-string to a number.\n",
    "    Input : bit-string in binary\n",
    "    Output: number \n",
    "    \"\"\"\n",
    "    num=0\n",
    "    n=len(bit_str)\n",
    "    \n",
    "    for i in range(n):\n",
    "        bit = int(bit_str[i])\n",
    "        if bit < 0 or bit > 1:\n",
    "            print(\"Fatal error. You did not input a bit string.Exiting.\")\n",
    "            return 0\n",
    "        num = num + bit*2**(n-1-i)\n",
    "    return num\n",
    "\n",
    "\n",
    "def bit_string_input(t,psi,d,n): # converts psi number to bit string input\n",
    "    bit_str_t = bit_string(t,d)[::-1]\n",
    "    bit_str_psi = bit_string(psi,n)[::-1]\n",
    "    #for i in range(d):\n",
    "    #    bit_str = \"0\"+bit_str #first d quibits are zero.\n",
    "    return bit_str_t + bit_str_psi\n",
    "\n",
    "def num_output(bit_string,d,n): # converts psi number to bit string input\n",
    "    if len(bit_string)!= d+n:\n",
    "        raise Exception(\"Error. Exit.\")\n",
    "    summ = 0\n",
    "\n",
    "    for i in range(n):\n",
    "        summ = summ + 2**i*int(bit_string[i+d])\n",
    "\n",
    "    print(\"The output value of psi is\", summ)\n",
    "    \n",
    "    summ=0 \n",
    "    for i in range(d):\n",
    "        summ = summ + 2**i*int(bit_string[i]) # read what number is in the |0> qubits after QPE.\n",
    "        \n",
    "    return summ\n",
    "\n",
    "def bit_to_state(bit_str): #convert bit_string to state_vector\n",
    "    \"\"\" Converts a bit-string to an input state vector for the circuit.\n",
    "    \"\"\"\n",
    "    bit_str = bit_str[::-1]\n",
    "    #\n",
    "    return Statevector.from_label(bit_str)\n",
    "def state_to_bit(statevector,n): # converts state_vector to bit_string\n",
    "    \"\"\" Converts an input statevector to a bit-string of length n\n",
    "    \"\"\"\n",
    "    num = np.nonzero(np.round(np.real(statevector)))[0][0]\n",
    "   \n",
    "    return bit_string(num,n)\n"
   ]
  },
  {
   "cell_type": "code",
   "execution_count": 76,
   "id": "58f0f165-0763-47fa-bf40-fff8e59c8ab4",
   "metadata": {},
   "outputs": [],
   "source": [
    "## Inverse QFT \n",
    "def inverse_quantum_fourier_transform(n):\n",
    "    quantum_register = QuantumRegister(size=n, name=\"x\")\n",
    "    inverse_QFT_circuit = QuantumCircuit(quantum_register, name=f\"IQFT\")\n",
    "\n",
    "    for q, p in zip(quantum_register[:n >> 1], reversed(quantum_register[n >> 1:])):\n",
    "        inverse_QFT_circuit.swap(q, p)\n",
    "        \n",
    "    for i, q in enumerate(reversed(quantum_register), start=1):\n",
    "        for j, p in enumerate(reversed(quantum_register[n + 1 - i:]), start=1):\n",
    "            inverse_QFT_circuit.cp(- np.pi / (1 << (i - j)), q, p)\n",
    "        inverse_QFT_circuit.h(q)\n",
    "\n",
    "    \n",
    "\n",
    "    return inverse_QFT_circuit"
   ]
  },
  {
   "cell_type": "code",
   "execution_count": 77,
   "id": "2bfcb366-6526-4bb2-8e56-e6d96374bb79",
   "metadata": {},
   "outputs": [
    {
     "data": {
      "image/png": "[encoded data removed]",
      "text/plain": [
       "<Figure size 1040x284.278 with 1 Axes>"
      ]
     },
     "execution_count": 77,
     "metadata": {},
     "output_type": "execute_result"
    }
   ],
   "source": [
    "from qiskit.circuit.library import Diagonal\n",
    "from qiskit.circuit.library import DiagonalGate\n",
    "\n",
    "\n",
    "def theta_input(d,n):\n",
    "    possible_thetas = np.arange(2**d)/2**d\n",
    "    return np.random.choice(possible_thetas, size=2**n,replace=False)\n",
    "    \n",
    "    \n",
    "\n",
    "def power_diag_U(power, n, thetas):\n",
    "    diagonals = np.array([])\n",
    "    if 2**n != len(thetas):\n",
    "        raise Exception(\"2^n should be the same length as the array of phases.\")\n",
    "    \n",
    "    for theta in thetas:\n",
    "        diagonals = np.append(diagonals, np.exp(2*np.pi*1.j*theta))\n",
    "    #diagonals = np.array([np.exp(2*np.pi*1.j*theta1),np.exp(2*np.pi*1.j*theta2),np.exp(2*np.pi*1.j*theta3),np.exp(2*np.pi*1.j*theta4),np.exp(2*np.pi*1.j*theta5),np.exp(2*np.pi*1.j*theta6),np.exp(2*np.pi*1.j*theta7),np.exp(2*np.pi*1.j*theta8)])**power\n",
    " \n",
    "    return diagonals.tolist()\n",
    "\n",
    "def power_U(power, n, thetas):\n",
    "    diagonals = power_diag_U(power, n, thetas)\n",
    "    qc = QuantumCircuit(n, name=f\"U\")\n",
    "\n",
    "    qc.append(DiagonalGate(diagonals), range(n))\n",
    "\n",
    "    return qc\n",
    "\n",
    "power_U(2,3,[0.1,0.2,0.3,0.4,0.5,0.6,0.7,0.8]).draw(output=\"mpl\")\n",
    "    \n",
    "    "
   ]
  },
  {
   "cell_type": "code",
   "execution_count": 78,
   "id": "cca1bb96-eabb-48bb-a8a8-58a8713e661b",
   "metadata": {},
   "outputs": [],
   "source": [
    "def QPE(d,n,thetas):\n",
    "    qr_0 = QuantumRegister(size=d, name=\"0\")\n",
    "    qr_psi = QuantumRegister(size=n, name=\"psi\")\n",
    "\n",
    "    qc = QuantumCircuit(qr_0, qr_psi,name=f'QPE')\n",
    "\n",
    "    \n",
    "    #Hadamard gates on each |0>_d\n",
    "    \n",
    "    for i in range(d):\n",
    "        qc.h(qr_0[i])\n",
    "\n",
    "        U_i = power_U(2**i,n,thetas).to_gate(label=\"U\"+str(i))\n",
    "        U_i_controlled = U_i.control(1)\n",
    "\n",
    "\n",
    "        qc.append(U_i_controlled, [qr_0[i]] + qr_psi[:])\n",
    "\n",
    "    \n",
    "\n",
    "    #Swap\n",
    "\n",
    "    for q, p in zip(qr_0[:d >> 1], reversed(qr_0[d >> 1:])):\n",
    "        qc.swap(q, p)\n",
    "    \n",
    "    \n",
    "    #Inverse QFT\n",
    "    qc.append(inverse_quantum_fourier_transform(d),qr_0[:])\n",
    "\n",
    "    #Swap\n",
    "    for q, p in zip(qr_0[:d >> 1], reversed(qr_0[d >> 1:])):\n",
    "        qc.swap(q, p)\n",
    "\n",
    "    return qc\n",
    "\n",
    "    \n",
    "\n",
    "    \n",
    "    "
   ]
  },
  {
   "cell_type": "code",
   "execution_count": 74,
   "id": "2e777ec1-e057-48eb-8fb2-95bc476fc83c",
   "metadata": {},
   "outputs": [
    {
     "data": {
      "image/png": "[encoded data removed]",
      "text/plain": [
       "<Figure size 728.782x451.5 with 1 Axes>"
      ]
     },
     "execution_count": 74,
     "metadata": {},
     "output_type": "execute_result"
    }
   ],
   "source": [
    "d = 3\n",
    "n = 2\n",
    "thetas = theta_input(d,n)\n",
    "QPE(d,n,thetas).draw(output=\"mpl\")"
   ]
  },
  {
   "cell_type": "code",
   "execution_count": 88,
   "id": "96f16904-fb98-44b4-92d6-27d6629b3caf",
   "metadata": {},
   "outputs": [],
   "source": [
    "## The above circuit is useful on its own, so I am going to keep it.\n",
    "\n",
    "# Now if I do not bake in the initial condition directly into the following circuit, it will become difficult later to chain the \"Z_f\"\n",
    "# Grover's algorithm with the other operators. So I will bake in the initial condition with the |0>_d qubits, and construct Z_f.\n",
    "# However, psi remains in our circuit"
   ]
  },
  {
   "cell_type": "code",
   "execution_count": null,
   "id": "f191849d-a37b-4b6f-ac2d-573f459aa10b",
   "metadata": {},
   "outputs": [],
   "source": [
    "#This function measures what comes out of the QPE above. The \"measurement\" is performed by sampling over the probability distribution\n",
    "# of the final state vector produced by the QPE circuit, and returning the \"collapsed\" state as a bit-string. \n",
    "\n",
    "\n",
    "\n",
    "\n",
    "def U_f(t,psi,d,n,thetas): # sv_ini is Initial State Vector to feed in to QPE\n",
    "    qc = QPE(d,n,thetas)\n",
    "    \n",
    "    bit_str = bit_string_input(t,psi,d,n)\n",
    "    sv_ini = bit_to_state(bit_str)\n",
    "\n",
    "    \n",
    "    "
   ]
  },
  {
   "cell_type": "code",
   "execution_count": 87,
   "id": "6f0f2c92-2f9c-482a-b3b1-edc0eea0c05c",
   "metadata": {},
   "outputs": [
    {
     "data": {
      "text/plain": [
       "'100110'"
      ]
     },
     "execution_count": 87,
     "metadata": {},
     "output_type": "execute_result"
    }
   ],
   "source": [
    "bit_string_input(1,3,3,3)"
   ]
  },
  {
   "cell_type": "code",
   "execution_count": 331,
   "id": "1b33bf0b-1411-434b-b0a4-461d8bab8b56",
   "metadata": {},
   "outputs": [
    {
     "name": "stdout",
     "output_type": "stream",
     "text": [
      "bit_str 000010\n",
      "Initial state vector is Statevector([0.+0.j, 0.+0.j, 0.+0.j, 0.+0.j, 0.+0.j, 0.+0.j, 0.+0.j,\n",
      "             0.+0.j, 0.+0.j, 0.+0.j, 0.+0.j, 0.+0.j, 0.+0.j, 0.+0.j,\n",
      "             0.+0.j, 0.+0.j, 1.+0.j, 0.+0.j, 0.+0.j, 0.+0.j, 0.+0.j,\n",
      "             0.+0.j, 0.+0.j, 0.+0.j, 0.+0.j, 0.+0.j, 0.+0.j, 0.+0.j,\n",
      "             0.+0.j, 0.+0.j, 0.+0.j, 0.+0.j, 0.+0.j, 0.+0.j, 0.+0.j,\n",
      "             0.+0.j, 0.+0.j, 0.+0.j, 0.+0.j, 0.+0.j, 0.+0.j, 0.+0.j,\n",
      "             0.+0.j, 0.+0.j, 0.+0.j, 0.+0.j, 0.+0.j, 0.+0.j, 0.+0.j,\n",
      "             0.+0.j, 0.+0.j, 0.+0.j, 0.+0.j, 0.+0.j, 0.+0.j, 0.+0.j,\n",
      "             0.+0.j, 0.+0.j, 0.+0.j, 0.+0.j, 0.+0.j, 0.+0.j, 0.+0.j,\n",
      "             0.+0.j],\n",
      "            dims=(2, 2, 2, 2, 2, 2))\n",
      "Final state vector is Statevector([ 0.00000000e+00+0.00000000e+00j,\n",
      "              0.00000000e+00+0.00000000e+00j,\n",
      "              0.00000000e+00+0.00000000e+00j,\n",
      "              0.00000000e+00+0.00000000e+00j,\n",
      "              0.00000000e+00+0.00000000e+00j,\n",
      "              0.00000000e+00+0.00000000e+00j,\n",
      "              0.00000000e+00+0.00000000e+00j,\n",
      "              0.00000000e+00+0.00000000e+00j,\n",
      "              0.00000000e+00+0.00000000e+00j,\n",
      "              0.00000000e+00+0.00000000e+00j,\n",
      "              0.00000000e+00+0.00000000e+00j,\n",
      "              0.00000000e+00+0.00000000e+00j,\n",
      "              0.00000000e+00+0.00000000e+00j,\n",
      "              0.00000000e+00+0.00000000e+00j,\n",
      "              0.00000000e+00+0.00000000e+00j,\n",
      "              0.00000000e+00+0.00000000e+00j,\n",
      "             -6.86915451e-17+1.37383090e-16j,\n",
      "             -1.34015774e-16+5.55111512e-17j,\n",
      "              1.00000000e+00-4.56381537e-16j,\n",
      "              1.34015774e-16+5.55111512e-17j,\n",
      "              1.47196168e-16+5.88784672e-17j,\n",
      "              2.29934717e-17+5.55111512e-17j,\n",
      "              0.00000000e+00+3.80753751e-17j,\n",
      "             -2.29934717e-17+5.55111512e-17j,\n",
      "              0.00000000e+00+0.00000000e+00j,\n",
      "              0.00000000e+00+0.00000000e+00j,\n",
      "              0.00000000e+00+0.00000000e+00j,\n",
      "              0.00000000e+00+0.00000000e+00j,\n",
      "              0.00000000e+00+0.00000000e+00j,\n",
      "              0.00000000e+00+0.00000000e+00j,\n",
      "              0.00000000e+00+0.00000000e+00j,\n",
      "              0.00000000e+00+0.00000000e+00j,\n",
      "              0.00000000e+00+0.00000000e+00j,\n",
      "              0.00000000e+00+0.00000000e+00j,\n",
      "              0.00000000e+00+0.00000000e+00j,\n",
      "              0.00000000e+00+0.00000000e+00j,\n",
      "              0.00000000e+00+0.00000000e+00j,\n",
      "              0.00000000e+00+0.00000000e+00j,\n",
      "              0.00000000e+00+0.00000000e+00j,\n",
      "              0.00000000e+00+0.00000000e+00j,\n",
      "              0.00000000e+00+0.00000000e+00j,\n",
      "              0.00000000e+00+0.00000000e+00j,\n",
      "              0.00000000e+00+0.00000000e+00j,\n",
      "              0.00000000e+00+0.00000000e+00j,\n",
      "              0.00000000e+00+0.00000000e+00j,\n",
      "              0.00000000e+00+0.00000000e+00j,\n",
      "              0.00000000e+00+0.00000000e+00j,\n",
      "              0.00000000e+00+0.00000000e+00j,\n",
      "              0.00000000e+00+0.00000000e+00j,\n",
      "              0.00000000e+00+0.00000000e+00j,\n",
      "              0.00000000e+00+0.00000000e+00j,\n",
      "              0.00000000e+00+0.00000000e+00j,\n",
      "              0.00000000e+00+0.00000000e+00j,\n",
      "              0.00000000e+00+0.00000000e+00j,\n",
      "              0.00000000e+00+0.00000000e+00j,\n",
      "              0.00000000e+00+0.00000000e+00j,\n",
      "              0.00000000e+00+0.00000000e+00j,\n",
      "              0.00000000e+00+0.00000000e+00j,\n",
      "              0.00000000e+00+0.00000000e+00j,\n",
      "              0.00000000e+00+0.00000000e+00j,\n",
      "              0.00000000e+00+0.00000000e+00j,\n",
      "              0.00000000e+00+0.00000000e+00j,\n",
      "              0.00000000e+00+0.00000000e+00j,\n",
      "              0.00000000e+00+0.00000000e+00j],\n",
      "            dims=(2, 2, 2, 2, 2, 2))\n"
     ]
    }
   ],
   "source": [
    "#d=3\n",
    "#n = 3\n",
    "total_bits = d+n\n",
    "\n",
    "num = 2\n",
    "\n",
    "bit_str = bit_string_input(num,d,n)\n",
    "print(\"bit_str\",bit_str)\n",
    "sv_ini = bit_to_state(bit_str)\n",
    "print(\"Initial state vector is\",sv_ini)\n",
    "sv_fin = sv_ini.evolve(qc)\n",
    "print(\"Final state vector is\", sv_fin)\n",
    "#state_to_bit(sv_fin,total_bits)"
   ]
  },
  {
   "cell_type": "code",
   "execution_count": 332,
   "id": "ea7fcddc-ff44-4d7e-88a1-1ddf6ce446b6",
   "metadata": {},
   "outputs": [
    {
     "data": {
      "text/plain": [
       "array([0.00000000e+00, 0.00000000e+00, 0.00000000e+00, 0.00000000e+00,\n",
       "       0.00000000e+00, 0.00000000e+00, 0.00000000e+00, 0.00000000e+00,\n",
       "       0.00000000e+00, 0.00000000e+00, 0.00000000e+00, 0.00000000e+00,\n",
       "       0.00000000e+00, 0.00000000e+00, 0.00000000e+00, 0.00000000e+00,\n",
       "       2.35926418e-32, 2.10417156e-32, 1.00000000e+00, 2.10417156e-32,\n",
       "       2.51333858e-32, 3.61018765e-33, 1.44973419e-33, 3.61018765e-33,\n",
       "       0.00000000e+00, 0.00000000e+00, 0.00000000e+00, 0.00000000e+00,\n",
       "       0.00000000e+00, 0.00000000e+00, 0.00000000e+00, 0.00000000e+00,\n",
       "       0.00000000e+00, 0.00000000e+00, 0.00000000e+00, 0.00000000e+00,\n",
       "       0.00000000e+00, 0.00000000e+00, 0.00000000e+00, 0.00000000e+00,\n",
       "       0.00000000e+00, 0.00000000e+00, 0.00000000e+00, 0.00000000e+00,\n",
       "       0.00000000e+00, 0.00000000e+00, 0.00000000e+00, 0.00000000e+00,\n",
       "       0.00000000e+00, 0.00000000e+00, 0.00000000e+00, 0.00000000e+00,\n",
       "       0.00000000e+00, 0.00000000e+00, 0.00000000e+00, 0.00000000e+00,\n",
       "       0.00000000e+00, 0.00000000e+00, 0.00000000e+00, 0.00000000e+00,\n",
       "       0.00000000e+00, 0.00000000e+00, 0.00000000e+00, 0.00000000e+00])"
      ]
     },
     "execution_count": 332,
     "metadata": {},
     "output_type": "execute_result"
    }
   ],
   "source": [
    "sv_fin.probabilities()"
   ]
  },
  {
   "cell_type": "code",
   "execution_count": 336,
   "id": "0ffe5260-3765-4312-9dd0-ecb73a0c1a8e",
   "metadata": {},
   "outputs": [
    {
     "name": "stdout",
     "output_type": "stream",
     "text": [
      "The output value of psi is 2\n"
     ]
    },
    {
     "data": {
      "text/plain": [
       "2"
      ]
     },
     "execution_count": 336,
     "metadata": {},
     "output_type": "execute_result"
    }
   ],
   "source": [
    " # Your evolved statevector\n",
    "probs = sv_fin.probabilities()\n",
    "n_qubits = sv_fin.num_qubits\n",
    "num_output(bit_string(np.random.choice(2**n_qubits,p=probs),n_qubits)[::-1],d,n)"
   ]
  },
  {
   "cell_type": "code",
   "execution_count": null,
   "id": "a3ddd2ee-8e7d-4c5c-8d55-f6a6003219a3",
   "metadata": {},
   "outputs": [],
   "source": [
    "sv.measure(qargs=[0,1,2])[1].data"
   ]
  }
 ],
 "metadata": {
  "kernelspec": {
   "display_name": "Python 3 (ipykernel)",
   "language": "python",
   "name": "python3"
  },
  "language_info": {
   "codemirror_mode": {
    "name": "ipython",
    "version": 3
   },
   "file_extension": ".py",
   "mimetype": "text/x-python",
   "name": "python",
   "nbconvert_exporter": "python",
   "pygments_lexer": "ipython3",
   "version": "3.13.2"
  }
 },
 "nbformat": 4,
 "nbformat_minor": 5
}
