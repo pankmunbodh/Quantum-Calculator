{
 "cells": [
  {
   "cell_type": "markdown",
   "id": "574905bd",
   "metadata": {},
   "source": [
    "## QPE Implementation"
   ]
  },
  {
   "cell_type": "code",
   "execution_count": 1,
   "id": "66a421f2-128e-45e5-8e22-8e91039f1e02",
   "metadata": {},
   "outputs": [],
   "source": [
    "from qiskit.circuit import QuantumCircuit, QuantumRegister, AncillaRegister, ClassicalRegister\n",
    "from qiskit.quantum_info import Statevector, Operator\n",
    "\n",
    "import matplotlib.pyplot as plt\n",
    "\n",
    "import numpy as np"
   ]
  },
  {
   "cell_type": "code",
   "execution_count": 83,
   "id": "4356a33f-9cd2-4ad2-bf98-c042d3530610",
   "metadata": {},
   "outputs": [],
   "source": [
    "## Helper functions for testing.\n",
    "def bit_string(num,n): # converts a number to binary bit_string\n",
    "    \"\"\"Converts a number to its binary string with MSB to LSB from left to right.\n",
    "    Input: number (num), n (number of bits that should be in result)\n",
    "    \"\"\"\n",
    "    maxi = 2**n\n",
    "    rem = num%(2**n)\n",
    "\n",
    "    bit_string = ''# 2^(n-1) ... 2^0 \n",
    "\n",
    "    for i in range(n-1,-1,-1):\n",
    "        append = str(rem//(2**i))\n",
    "        bit_string = bit_string + append\n",
    "        rem = rem%(2**i)\n",
    "    return bit_string\n",
    "\n",
    "def binary_to_num(bit_str):\n",
    "    \"\"\"Convert a bit-string to a number.\n",
    "    Input : bit-string in binary\n",
    "    Output: number \n",
    "    \"\"\"\n",
    "    num=0\n",
    "    n=len(bit_str)\n",
    "    \n",
    "    for i in range(n):\n",
    "        bit = int(bit_str[i])\n",
    "        if bit < 0 or bit > 1:\n",
    "            print(\"Fatal error. You did not input a bit string.Exiting.\")\n",
    "            return 0\n",
    "        num = num + bit*2**(n-1-i)\n",
    "    return num\n",
    "\n",
    "\n",
    "def bit_string_input(t,psi,d,n): # converts psi number to bit string input\n",
    "    bit_str_t = bit_string(t,d)[::-1]\n",
    "    bit_str_psi = bit_string(psi,n)[::-1]\n",
    "    #for i in range(d):\n",
    "    #    bit_str = \"0\"+bit_str #first d quibits are zero.\n",
    "    return bit_str_t + bit_str_psi\n",
    "\n",
    "def num_output(bit_string,d,n): # converts psi number to bit string input\n",
    "    if len(bit_string)!= d+n:\n",
    "        raise Exception(\"Error. Exit.\")\n",
    "    summ = 0\n",
    "\n",
    "    for i in range(n):\n",
    "        summ = summ + 2**i*int(bit_string[i+d])\n",
    "\n",
    "    print(\"The output value of psi is\", summ)\n",
    "    \n",
    "    summ=0 \n",
    "    for i in range(d):\n",
    "        summ = summ + 2**i*int(bit_string[i]) # read what number is in the |0> qubits after QPE.\n",
    "        \n",
    "    return summ\n",
    "\n",
    "def bit_to_state(bit_str): #convert bit_string to state_vector\n",
    "    \"\"\" Converts a bit-string to an input state vector for the circuit.\n",
    "    \"\"\"\n",
    "    bit_str = bit_str[::-1]\n",
    "    #\n",
    "    return Statevector.from_label(bit_str)\n",
    "def state_to_bit(statevector,n): # converts state_vector to bit_string\n",
    "    \"\"\" Converts an input statevector to a bit-string of length n\n",
    "    \"\"\"\n",
    "    num = np.nonzero(np.round(np.real(statevector)))[0][0]\n",
    "   \n",
    "    return bit_string(num,n)\n"
   ]
  },
  {
   "cell_type": "code",
   "execution_count": 128,
   "id": "58f0f165-0763-47fa-bf40-fff8e59c8ab4",
   "metadata": {},
   "outputs": [],
   "source": [
    "## Inverse QFT \n",
    "def inverse_quantum_fourier_transform(n):\n",
    "    quantum_register = QuantumRegister(size=n, name=\"x\")\n",
    "    inverse_QFT_circuit = QuantumCircuit(quantum_register, name=f\"IQFT\")\n",
    "\n",
    "    for q, p in zip(quantum_register[:n >> 1], reversed(quantum_register[n >> 1:])):\n",
    "        inverse_QFT_circuit.swap(q, p)\n",
    "        \n",
    "    for i, q in enumerate(reversed(quantum_register), start=1):\n",
    "        for j, p in enumerate(reversed(quantum_register[n + 1 - i:]), start=1):\n",
    "            inverse_QFT_circuit.cp(- np.pi / (1 << (i - j)), q, p)\n",
    "        inverse_QFT_circuit.h(q)\n",
    "\n",
    "    \n",
    "\n",
    "    return inverse_QFT_circuit\n",
    "\n",
    "\n",
    "def quantum_fourier_transform(n):\n",
    "    quantum_register = QuantumRegister(size=n, name=\"x\")\n",
    "    QFT_circuit = QuantumCircuit(quantum_register, name=f\"QFT\")\n",
    "\n",
    "    \n",
    "\n",
    "    for i, q in enumerate(quantum_register, start=1):\n",
    "        QFT_circuit.h(q)\n",
    "        for j, p in enumerate(quantum_register[i:], start=1):\n",
    "            QFT_circuit.cp(np.pi / (1 << j), q, p) # I don't understand. Should q not be target and control be p instead? Symmetric so does not matter.\n",
    "\n",
    "    for q, p in zip(quantum_register[:n >> 1], reversed(quantum_register[n >> 1:])):\n",
    "        QFT_circuit.swap(q, p)\n",
    "    \n",
    "    return QFT_circuit"
   ]
  },
  {
   "cell_type": "code",
   "execution_count": 137,
   "id": "2bfcb366-6526-4bb2-8e56-e6d96374bb79",
   "metadata": {},
   "outputs": [],
   "source": [
    "from qiskit.circuit.library import Diagonal\n",
    "from qiskit.circuit.library import DiagonalGate\n",
    "\n",
    "\n",
    "def theta_input(d,n):\n",
    "    possible_thetas = np.arange(2**d)/2**d\n",
    "    return np.random.choice(possible_thetas, size=2**n,replace=False)\n",
    "    \n",
    "    \n",
    "\n",
    "def power_diag_U(power, n, thetas):\n",
    "    diagonals = np.array([])\n",
    "    if 2**n != len(thetas):\n",
    "        raise Exception(\"2^n should be the same length as the array of phases.\")\n",
    "    \n",
    "    for theta in thetas:\n",
    "        diagonals = np.append(diagonals, np.exp(2*np.pi*1.j*theta))\n",
    "    #diagonals = np.array([np.exp(2*np.pi*1.j*theta1),np.exp(2*np.pi*1.j*theta2),np.exp(2*np.pi*1.j*theta3),np.exp(2*np.pi*1.j*theta4),np.exp(2*np.pi*1.j*theta5),np.exp(2*np.pi*1.j*theta6),np.exp(2*np.pi*1.j*theta7),np.exp(2*np.pi*1.j*theta8)])**power\n",
    " \n",
    "    return diagonals.tolist()\n",
    "\n",
    "def power_U(power, n, thetas):\n",
    "    diagonals = power_diag_U(power, n, thetas)\n",
    "    qc = QuantumCircuit(n, name=f\"U\")\n",
    "\n",
    "    qc.append(DiagonalGate(diagonals), range(n))\n",
    "\n",
    "    return qc\n",
    "\n",
    "power_U(2,3,[0.1,0.2,0.3,0.4,0.5,0.6,0.7,0.8]).draw(output=\"mpl\")\n",
    "\n",
    "\n",
    "# I will also need the inverse of power_U\n",
    "\n",
    "def power_U_inverse(power,n,thetas):\n",
    "    diagonals = (np.array(power_diag_U(power, n, thetas))**(-1)).tolist()\n",
    "\n",
    "    qc = QuantumCircuit(n, name=f\"U_inv\")\n",
    "\n",
    "    qc.append(DiagonalGate(diagonals), range(n))\n",
    "\n",
    "    return qc\n",
    "    "
   ]
  },
  {
   "cell_type": "code",
   "execution_count": 132,
   "id": "47d7d651-9717-4135-ae0e-518e0ee85917",
   "metadata": {},
   "outputs": [
    {
     "data": {
      "text/plain": [
       "[(-1+1.2246467991473532e-16j),\n",
       " (6.123233995736766e-17+1j),\n",
       " (0.7071067811865475-0.7071067811865477j),\n",
       " (0.7071067811865476+0.7071067811865475j),\n",
       " (-1.8369701987210297e-16-1j),\n",
       " (1+0j),\n",
       " (-0.7071067811865475+0.7071067811865476j),\n",
       " (-0.7071067811865477-0.7071067811865475j)]"
      ]
     },
     "execution_count": 132,
     "metadata": {},
     "output_type": "execute_result"
    }
   ],
   "source": [
    "power_diag_U(1,3,thetas)"
   ]
  },
  {
   "cell_type": "code",
   "execution_count": 140,
   "id": "cca1bb96-eabb-48bb-a8a8-58a8713e661b",
   "metadata": {},
   "outputs": [],
   "source": [
    "def QPE(d,n,thetas):\n",
    "    qr_0 = QuantumRegister(size=d, name=\"0\")\n",
    "    qr_psi = QuantumRegister(size=n, name=\"psi\")\n",
    "\n",
    "    qc = QuantumCircuit(qr_0, qr_psi,name=f'QPE')\n",
    "\n",
    "    \n",
    "    #Hadamard gates on each |0>_d\n",
    "    \n",
    "    for i in range(d):\n",
    "        qc.h(qr_0[i])\n",
    "\n",
    "        U_i = power_U(2**i,n,thetas).to_gate(label=\"U\"+str(i))\n",
    "        U_i_controlled = U_i.control(1)\n",
    "\n",
    "\n",
    "        qc.append(U_i_controlled, [qr_0[i]] + qr_psi[:])\n",
    "\n",
    "    \n",
    "\n",
    "    #Swap\n",
    "\n",
    "    for q, p in zip(qr_0[:d >> 1], reversed(qr_0[d >> 1:])):\n",
    "        qc.swap(q, p)\n",
    "    \n",
    "    \n",
    "    #Inverse QFT\n",
    "    qc.append(inverse_quantum_fourier_transform(d),qr_0[:])\n",
    "\n",
    "    #Swap\n",
    "    for q, p in zip(qr_0[:d >> 1], reversed(qr_0[d >> 1:])):\n",
    "        qc.swap(q, p)\n",
    "\n",
    "    return qc\n",
    "\n",
    "    \n",
    "\n",
    "    \n",
    "    "
   ]
  },
  {
   "cell_type": "code",
   "execution_count": 141,
   "id": "2e777ec1-e057-48eb-8fb2-95bc476fc83c",
   "metadata": {},
   "outputs": [
    {
     "data": {
      "image/png": "[encoded data removed]",
      "text/plain": [
       "<Figure size 728.984x535.111 with 1 Axes>"
      ]
     },
     "execution_count": 141,
     "metadata": {},
     "output_type": "execute_result"
    }
   ],
   "source": [
    "d = 3\n",
    "n = 3\n",
    "thetas = theta_input(d,n)\n",
    "QPE(d,n,thetas).draw(output=\"mpl\")"
   ]
  },
  {
   "cell_type": "code",
   "execution_count": 144,
   "id": "04648110-7854-4879-a945-271dba37de4f",
   "metadata": {},
   "outputs": [],
   "source": [
    "## We will need the inverse of QPE\n",
    "\n",
    "def QPE_dagger(d,n,thetas):\n",
    "    qr_0 = QuantumRegister(size=d, name=\"0\")\n",
    "    qr_psi = QuantumRegister(size=n, name=\"psi\")\n",
    "\n",
    "    qc = QuantumCircuit(qr_0, qr_psi,name=f'QPE_dagger')\n",
    "\n",
    "\n",
    "    #Swap\n",
    "    for q, p in zip(qr_0[:d >> 1], reversed(qr_0[d >> 1:])):\n",
    "        qc.swap(q, p)\n",
    "\n",
    "    # QFT\n",
    "    qc.append(quantum_fourier_transform(d),qr_0[:])\n",
    "\n",
    "       #Swap\n",
    "\n",
    "    for q, p in zip(qr_0[:d >> 1], reversed(qr_0[d >> 1:])):\n",
    "        qc.swap(q, p)\n",
    "    \n",
    "\n",
    "    \n",
    "    #Hadamard gates on each |0>_d\n",
    "    \n",
    "    for i in range(d):\n",
    "        U_i_inv = power_U_inverse(2**i,n,thetas).to_gate(label=\"U_inv\"+str(i))\n",
    "        U_i_inv_controlled = U_i_inv.control(1)\n",
    "\n",
    "        qc.append(U_i_inv_controlled, [qr_0[i]] + qr_psi[:])\n",
    "        \n",
    "        qc.h(qr_0[i])\n",
    "    \n",
    "\n",
    "    return qc\n",
    "        "
   ]
  },
  {
   "cell_type": "code",
   "execution_count": 145,
   "id": "5f1eb913-80a1-4741-a35f-b2cb36ed23dd",
   "metadata": {},
   "outputs": [
    {
     "data": {
      "image/png": "[encoded data removed]",
      "text/plain": [
       "<Figure size 979.818x535.111 with 1 Axes>"
      ]
     },
     "execution_count": 145,
     "metadata": {},
     "output_type": "execute_result"
    }
   ],
   "source": [
    "QPE_dagger(d,n,thetas).draw(output=\"mpl\")"
   ]
  },
  {
   "cell_type": "code",
   "execution_count": 149,
   "id": "ca920fc9-2f40-4b7c-aac4-2186db00e3ed",
   "metadata": {},
   "outputs": [
    {
     "data": {
      "image/png": "[encoded data removed]",
      "text/plain": [
       "<Figure size 1565.1x535.111 with 1 Axes>"
      ]
     },
     "execution_count": 149,
     "metadata": {},
     "output_type": "execute_result"
    }
   ],
   "source": [
    "# Check if QPE composed with QPE_dagger gives identity\n",
    "qr_0_check = QuantumRegister(size=d,name=\"0\")\n",
    "qr_psi_check = QuantumRegister(size=n, name=\"psi\")\n",
    "qc_check = QuantumCircuit(qr_0_check, qr_psi_check, name=f'id')\n",
    "qc_check.compose(QPE(d,n,thetas),inplace=True)\n",
    "qc_check.compose(QPE_dagger(d,n,thetas),inplace=True)\n",
    "qc_check.draw(output=\"mpl\")"
   ]
  },
  {
   "cell_type": "code",
   "execution_count": 153,
   "id": "3139f0af-3fac-4d24-9d7b-21dba0895ad2",
   "metadata": {},
   "outputs": [
    {
     "data": {
      "text/plain": [
       "array([[ 1.+0.j,  0.-0.j,  0.-0.j, ...,  0.+0.j,  0.+0.j,  0.+0.j],\n",
       "       [ 0.-0.j,  1.+0.j,  0.-0.j, ...,  0.+0.j,  0.+0.j,  0.+0.j],\n",
       "       [ 0.-0.j, -0.+0.j,  1.+0.j, ...,  0.+0.j,  0.+0.j,  0.+0.j],\n",
       "       ...,\n",
       "       [ 0.+0.j,  0.+0.j,  0.+0.j, ...,  1.+0.j,  0.+0.j,  0.-0.j],\n",
       "       [ 0.+0.j,  0.+0.j,  0.+0.j, ..., -0.-0.j,  1.-0.j,  0.-0.j],\n",
       "       [ 0.+0.j,  0.+0.j,  0.+0.j, ...,  0.-0.j,  0.-0.j,  1.-0.j]],\n",
       "      shape=(64, 64))"
      ]
     },
     "execution_count": 153,
     "metadata": {},
     "output_type": "execute_result"
    }
   ],
   "source": [
    "np.round(Operator(qc_check).data) # Ok great this works."
   ]
  },
  {
   "cell_type": "code",
   "execution_count": 154,
   "id": "96f16904-fb98-44b4-92d6-27d6629b3caf",
   "metadata": {},
   "outputs": [
    {
     "data": {
      "image/png": "[encoded data removed]",
      "text/plain": [
       "<Figure size 203.481x284.278 with 1 Axes>"
      ]
     },
     "execution_count": 154,
     "metadata": {},
     "output_type": "execute_result"
    }
   ],
   "source": [
    "## The above circuit is useful on its own, so I am going to keep it.\n",
    "\n",
    "# Now if I do not bake in the initial condition directly into the following circuit, it will become difficult later to chain the \"Z_f\"\n",
    "# Grover's algorithm with the other operators. So I will bake in the initial condition with the |0>_d qubits, and construct Z_f.\n",
    "# However, psi remains in our circuit.\n",
    "\n",
    "#First let's make a function that puts the X gates in the right place to create the initial conditions for a number alpha in 2^d-1 |alpha>\n",
    "blabla = QuantumRegister(size=3, name = \"a\")\n",
    "def initial_conditions(alpha, qr): #Input : number alpha, quantum register qr\n",
    "    qc = QuantumCircuit(qr)\n",
    "    \n",
    "    d = len(qr)\n",
    "    bit_str = bit_string(alpha,d)[::-1] # I need to reverse because of qiskit indexing of register\n",
    "    for i in range(d):\n",
    "        if bit_str[i] == '1':\n",
    "            qc.x(qr[i])\n",
    "    return qc\n",
    "\n",
    "initial_conditions(2,blabla).draw(output=\"mpl\")"
   ]
  },
  {
   "cell_type": "code",
   "execution_count": 126,
   "id": "f9f7597c-a3bf-4410-a23e-b4296bada773",
   "metadata": {},
   "outputs": [],
   "source": [
    "from qiskit.circuit.library import MCPhaseGate"
   ]
  },
  {
   "cell_type": "code",
   "execution_count": 166,
   "id": "f191849d-a37b-4b6f-ac2d-573f459aa10b",
   "metadata": {},
   "outputs": [
    {
     "data": {
      "image/png": "[encoded data removed]",
      "text/plain": [
       "<Figure size 1777.6x535.111 with 1 Axes>"
      ]
     },
     "execution_count": 166,
     "metadata": {},
     "output_type": "execute_result"
    }
   ],
   "source": [
    "#This function measures what comes out of the QPE above. The \"measurement\" is performed by sampling over the probability distribution\n",
    "# of the final state vector produced by the QPE circuit, and returning the \"collapsed\" state as a bit-string. \n",
    "\n",
    "# We do not construct MCP gate from scratch but use the qiskit implementation here. For how to construct this gate, refer to nb 1.\n",
    "\n",
    "t = 5\n",
    "\n",
    "\n",
    "def U_f(psi,d,n,thetas): # sv_ini is Initial State Vector to feed in to QPE\n",
    "\n",
    "    #bit_str = bit_string_input(t,psi,d,n)\n",
    "\n",
    "    qr_0= QuantumRegister(size=d,name=\"2^d-1-t\")\n",
    "    qr_psi = QuantumRegister(size=n,name=\"psi\")\n",
    "\n",
    "    qc = QuantumCircuit(qr_0,qr_psi)\n",
    "    \n",
    "    qc_0_ini = initial_conditions(2**d - 1 - t,qr_0)\n",
    "    qc_psi_ini = initial_conditions(psi,qr_psi)\n",
    "\n",
    "    qc.compose(qc_0_ini,qubits=qr_0[:],inplace=True)\n",
    "    qc.compose(qc_psi_ini,qubits=qr_psi[:],inplace=True)\n",
    "    \n",
    "    \n",
    "    \n",
    "    \n",
    "    qc_qpe = QPE(d,n,thetas)\n",
    "    qc.compose(qc_qpe, qubits=qr_0[:] + qr_psi[:],inplace=True)\n",
    "\n",
    "    #mcp_gate = MCPhaseGate(lam=np.pi, num_ctrl_qubits=3) # so that get a MCZ gate.\n",
    "\n",
    "    #qc.append(mcp_gate, [0, 1, 2])\n",
    "\n",
    "    qc.mcp(np.pi, qr_0,qr_psi[0])\n",
    "\n",
    "    \n",
    "    qc_qpe_dagger = QPE_dagger(d,n,thetas)\n",
    "    qc.compose(qc_qpe_dagger, qubits = qr_0[:] + qr_psi[:], inplace=True)\n",
    "    \n",
    "    #bit_str = bit_string_input(t,psi,d,n)\n",
    "\n",
    "    #counter=0\n",
    "\n",
    "    #=\n",
    "        \n",
    "    \n",
    "    \n",
    "    #sv_ini = bit_to_state(bit_str)\n",
    "\n",
    "    return qc\n",
    "\n",
    "psi = 5\n",
    "qc = U_f(psi,d,n,thetas)\n",
    "qc.draw(output=\"mpl\")\n",
    "\n",
    "    \n",
    "    "
   ]
  },
  {
   "cell_type": "code",
   "execution_count": 167,
   "id": "8457aeb2-3612-4fe4-b921-7a0f3e691c29",
   "metadata": {},
   "outputs": [
    {
     "name": "stdout",
     "output_type": "stream",
     "text": [
      "The expected value stored in |0>_d is 2\n",
      "The output value of psi is 5\n",
      "The value stored in |0>_d is 2\n"
     ]
    }
   ],
   "source": [
    "sv_fin = Statevector(qc)\n",
    "probs = sv_fin.probabilities()\n",
    "#n_qubits = sv_fin.num_qubits\n",
    "print(\"The expected value stored in |0>_d is\",2**d-1-t)\n",
    "print(\"The value stored in |0>_d is\",num_output(bit_string(np.random.choice(2**(d+n),p=probs),n_qubits)[::-1],d,n))"
   ]
  },
  {
   "cell_type": "code",
   "execution_count": 170,
   "id": "69ab828f-b199-43d4-81d8-6064898d87df",
   "metadata": {},
   "outputs": [],
   "source": [
    "#I don't know how to check if we get a global phase on psi or not. One option is to check the MCZ separately. Assume it orks for now."
   ]
  },
  {
   "cell_type": "code",
   "execution_count": 171,
   "id": "b1fb3f0b-6199-461b-a376-674fbb7645d0",
   "metadata": {},
   "outputs": [],
   "source": [
    "# I want to check if the MCZ gate works to put the phase on psi\n",
    "#from qiskit.quantum_info import Statevector, partial_trace\n",
    "# Trace out qubit 1 (index 0 is qubit 0, index 1 is qubit 1)\n",
    "#rho = partial_trace(sv_fin, [0,1,2])  # Keep qubit 0, trace out qubit 1\n",
    "#print(rho)"
   ]
  },
  {
   "cell_type": "code",
   "execution_count": null,
   "id": "b4cfb52a-2d3e-4e3b-96e3-c86b6b5295e2",
   "metadata": {},
   "outputs": [],
   "source": [
    "# For modularity, I will now implement the H^n Z_OR H^n"
   ]
  },
  {
   "cell_type": "markdown",
   "id": "6d65a408-059b-4807-bdae-12765e1039d2",
   "metadata": {},
   "source": [
    "## rough work below."
   ]
  },
  {
   "cell_type": "code",
   "execution_count": 87,
   "id": "6f0f2c92-2f9c-482a-b3b1-edc0eea0c05c",
   "metadata": {},
   "outputs": [
    {
     "data": {
      "text/plain": [
       "'100110'"
      ]
     },
     "execution_count": 87,
     "metadata": {},
     "output_type": "execute_result"
    }
   ],
   "source": [
    "bit_string_input(1,3,3,3)"
   ]
  },
  {
   "cell_type": "code",
   "execution_count": 331,
   "id": "1b33bf0b-1411-434b-b0a4-461d8bab8b56",
   "metadata": {},
   "outputs": [
    {
     "name": "stdout",
     "output_type": "stream",
     "text": [
      "bit_str 000010\n",
      "Initial state vector is Statevector([0.+0.j, 0.+0.j, 0.+0.j, 0.+0.j, 0.+0.j, 0.+0.j, 0.+0.j,\n",
      "             0.+0.j, 0.+0.j, 0.+0.j, 0.+0.j, 0.+0.j, 0.+0.j, 0.+0.j,\n",
      "             0.+0.j, 0.+0.j, 1.+0.j, 0.+0.j, 0.+0.j, 0.+0.j, 0.+0.j,\n",
      "             0.+0.j, 0.+0.j, 0.+0.j, 0.+0.j, 0.+0.j, 0.+0.j, 0.+0.j,\n",
      "             0.+0.j, 0.+0.j, 0.+0.j, 0.+0.j, 0.+0.j, 0.+0.j, 0.+0.j,\n",
      "             0.+0.j, 0.+0.j, 0.+0.j, 0.+0.j, 0.+0.j, 0.+0.j, 0.+0.j,\n",
      "             0.+0.j, 0.+0.j, 0.+0.j, 0.+0.j, 0.+0.j, 0.+0.j, 0.+0.j,\n",
      "             0.+0.j, 0.+0.j, 0.+0.j, 0.+0.j, 0.+0.j, 0.+0.j, 0.+0.j,\n",
      "             0.+0.j, 0.+0.j, 0.+0.j, 0.+0.j, 0.+0.j, 0.+0.j, 0.+0.j,\n",
      "             0.+0.j],\n",
      "            dims=(2, 2, 2, 2, 2, 2))\n",
      "Final state vector is Statevector([ 0.00000000e+00+0.00000000e+00j,\n",
      "              0.00000000e+00+0.00000000e+00j,\n",
      "              0.00000000e+00+0.00000000e+00j,\n",
      "              0.00000000e+00+0.00000000e+00j,\n",
      "              0.00000000e+00+0.00000000e+00j,\n",
      "              0.00000000e+00+0.00000000e+00j,\n",
      "              0.00000000e+00+0.00000000e+00j,\n",
      "              0.00000000e+00+0.00000000e+00j,\n",
      "              0.00000000e+00+0.00000000e+00j,\n",
      "              0.00000000e+00+0.00000000e+00j,\n",
      "              0.00000000e+00+0.00000000e+00j,\n",
      "              0.00000000e+00+0.00000000e+00j,\n",
      "              0.00000000e+00+0.00000000e+00j,\n",
      "              0.00000000e+00+0.00000000e+00j,\n",
      "              0.00000000e+00+0.00000000e+00j,\n",
      "              0.00000000e+00+0.00000000e+00j,\n",
      "             -6.86915451e-17+1.37383090e-16j,\n",
      "             -1.34015774e-16+5.55111512e-17j,\n",
      "              1.00000000e+00-4.56381537e-16j,\n",
      "              1.34015774e-16+5.55111512e-17j,\n",
      "              1.47196168e-16+5.88784672e-17j,\n",
      "              2.29934717e-17+5.55111512e-17j,\n",
      "              0.00000000e+00+3.80753751e-17j,\n",
      "             -2.29934717e-17+5.55111512e-17j,\n",
      "              0.00000000e+00+0.00000000e+00j,\n",
      "              0.00000000e+00+0.00000000e+00j,\n",
      "              0.00000000e+00+0.00000000e+00j,\n",
      "              0.00000000e+00+0.00000000e+00j,\n",
      "              0.00000000e+00+0.00000000e+00j,\n",
      "              0.00000000e+00+0.00000000e+00j,\n",
      "              0.00000000e+00+0.00000000e+00j,\n",
      "              0.00000000e+00+0.00000000e+00j,\n",
      "              0.00000000e+00+0.00000000e+00j,\n",
      "              0.00000000e+00+0.00000000e+00j,\n",
      "              0.00000000e+00+0.00000000e+00j,\n",
      "              0.00000000e+00+0.00000000e+00j,\n",
      "              0.00000000e+00+0.00000000e+00j,\n",
      "              0.00000000e+00+0.00000000e+00j,\n",
      "              0.00000000e+00+0.00000000e+00j,\n",
      "              0.00000000e+00+0.00000000e+00j,\n",
      "              0.00000000e+00+0.00000000e+00j,\n",
      "              0.00000000e+00+0.00000000e+00j,\n",
      "              0.00000000e+00+0.00000000e+00j,\n",
      "              0.00000000e+00+0.00000000e+00j,\n",
      "              0.00000000e+00+0.00000000e+00j,\n",
      "              0.00000000e+00+0.00000000e+00j,\n",
      "              0.00000000e+00+0.00000000e+00j,\n",
      "              0.00000000e+00+0.00000000e+00j,\n",
      "              0.00000000e+00+0.00000000e+00j,\n",
      "              0.00000000e+00+0.00000000e+00j,\n",
      "              0.00000000e+00+0.00000000e+00j,\n",
      "              0.00000000e+00+0.00000000e+00j,\n",
      "              0.00000000e+00+0.00000000e+00j,\n",
      "              0.00000000e+00+0.00000000e+00j,\n",
      "              0.00000000e+00+0.00000000e+00j,\n",
      "              0.00000000e+00+0.00000000e+00j,\n",
      "              0.00000000e+00+0.00000000e+00j,\n",
      "              0.00000000e+00+0.00000000e+00j,\n",
      "              0.00000000e+00+0.00000000e+00j,\n",
      "              0.00000000e+00+0.00000000e+00j,\n",
      "              0.00000000e+00+0.00000000e+00j,\n",
      "              0.00000000e+00+0.00000000e+00j,\n",
      "              0.00000000e+00+0.00000000e+00j,\n",
      "              0.00000000e+00+0.00000000e+00j],\n",
      "            dims=(2, 2, 2, 2, 2, 2))\n"
     ]
    }
   ],
   "source": [
    "#d=3\n",
    "#n = 3\n",
    "total_bits = d+n\n",
    "\n",
    "num = 2\n",
    "\n",
    "bit_str = bit_string_input(num,d,n)\n",
    "print(\"bit_str\",bit_str)\n",
    "sv_ini = bit_to_state(bit_str)\n",
    "print(\"Initial state vector is\",sv_ini)\n",
    "sv_fin = sv_ini.evolve(qc)\n",
    "print(\"Final state vector is\", sv_fin)\n",
    "#state_to_bit(sv_fin,total_bits)"
   ]
  },
  {
   "cell_type": "code",
   "execution_count": 332,
   "id": "ea7fcddc-ff44-4d7e-88a1-1ddf6ce446b6",
   "metadata": {},
   "outputs": [
    {
     "data": {
      "text/plain": [
       "array([0.00000000e+00, 0.00000000e+00, 0.00000000e+00, 0.00000000e+00,\n",
       "       0.00000000e+00, 0.00000000e+00, 0.00000000e+00, 0.00000000e+00,\n",
       "       0.00000000e+00, 0.00000000e+00, 0.00000000e+00, 0.00000000e+00,\n",
       "       0.00000000e+00, 0.00000000e+00, 0.00000000e+00, 0.00000000e+00,\n",
       "       2.35926418e-32, 2.10417156e-32, 1.00000000e+00, 2.10417156e-32,\n",
       "       2.51333858e-32, 3.61018765e-33, 1.44973419e-33, 3.61018765e-33,\n",
       "       0.00000000e+00, 0.00000000e+00, 0.00000000e+00, 0.00000000e+00,\n",
       "       0.00000000e+00, 0.00000000e+00, 0.00000000e+00, 0.00000000e+00,\n",
       "       0.00000000e+00, 0.00000000e+00, 0.00000000e+00, 0.00000000e+00,\n",
       "       0.00000000e+00, 0.00000000e+00, 0.00000000e+00, 0.00000000e+00,\n",
       "       0.00000000e+00, 0.00000000e+00, 0.00000000e+00, 0.00000000e+00,\n",
       "       0.00000000e+00, 0.00000000e+00, 0.00000000e+00, 0.00000000e+00,\n",
       "       0.00000000e+00, 0.00000000e+00, 0.00000000e+00, 0.00000000e+00,\n",
       "       0.00000000e+00, 0.00000000e+00, 0.00000000e+00, 0.00000000e+00,\n",
       "       0.00000000e+00, 0.00000000e+00, 0.00000000e+00, 0.00000000e+00,\n",
       "       0.00000000e+00, 0.00000000e+00, 0.00000000e+00, 0.00000000e+00])"
      ]
     },
     "execution_count": 332,
     "metadata": {},
     "output_type": "execute_result"
    }
   ],
   "source": [
    "sv_fin.probabilities()"
   ]
  },
  {
   "cell_type": "code",
   "execution_count": 336,
   "id": "0ffe5260-3765-4312-9dd0-ecb73a0c1a8e",
   "metadata": {},
   "outputs": [
    {
     "name": "stdout",
     "output_type": "stream",
     "text": [
      "The output value of psi is 2\n"
     ]
    },
    {
     "data": {
      "text/plain": [
       "2"
      ]
     },
     "execution_count": 336,
     "metadata": {},
     "output_type": "execute_result"
    }
   ],
   "source": [
    " # Your evolved statevector\n",
    "probs = sv_fin.probabilities()\n",
    "n_qubits = sv_fin.num_qubits\n",
    "num_output(bit_string(np.random.choice(2**n_qubits,p=probs),n_qubits)[::-1],d,n)"
   ]
  },
  {
   "cell_type": "code",
   "execution_count": null,
   "id": "a3ddd2ee-8e7d-4c5c-8d55-f6a6003219a3",
   "metadata": {},
   "outputs": [],
   "source": [
    "sv.measure(qargs=[0,1,2])[1].data"
   ]
  }
 ],
 "metadata": {
  "kernelspec": {
   "display_name": "Python 3 (ipykernel)",
   "language": "python",
   "name": "python3"
  },
  "language_info": {
   "codemirror_mode": {
    "name": "ipython",
    "version": 3
   },
   "file_extension": ".py",
   "mimetype": "text/x-python",
   "name": "python",
   "nbconvert_exporter": "python",
   "pygments_lexer": "ipython3",
   "version": "3.13.2"
  }
 },
 "nbformat": 4,
 "nbformat_minor": 5
}
